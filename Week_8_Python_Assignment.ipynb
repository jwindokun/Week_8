{
 "metadata": {
  "name": "",
  "signature": "sha256:aea5c107a6cd0ba5c7b9b96c36cd008412098235881b3056958b195218cd5468"
 },
 "nbformat": 3,
 "nbformat_minor": 0,
 "worksheets": [
  {
   "cells": [
    {
     "cell_type": "heading",
     "level": 1,
     "metadata": {},
     "source": [
      "Week 8 Python Assignment"
     ]
    },
    {
     "cell_type": "code",
     "collapsed": false,
     "input": [
      "\n",
      "import sqlite3\n",
      "\n",
      "conn = sqlite3.connect('C:\\Users\\jare\\SkyDrive\\WorkDocs\\CUNY\\Data_Analytics\\Data_Programming\\Week 8\\experiments.db')\n",
      "\n",
      "cursor = conn.cursor()\n",
      "\n",
      "\n",
      "cursor.execute(\"Insert into Project (ProjectID, ProjectName) Values (2001, 'Invisibility Cloak')\")\n",
      "cursor.execute(\"Insert into Project (ProjectID, ProjectName) Values (2010, 'Create New Life')\")\n",
      "conn.commit()\n",
      "\n",
      "  \n",
      "newExperiment = [(2001, 3, 3,'2000-01-01',20), (2010, 2, 5,'2020-11-28',40), (2001, 5, 1,'180-05-11',5), (2010, 3, 10,'2300-01-31',56)]   \n",
      " \n",
      "cursor.executemany('Insert into Experiment Values (?,?,?,?,?)',newExperiment)\n",
      "\n",
      "conn.commit()\n",
      "\n",
      "\n",
      "\n",
      "cursor.execute('select Project.ProjectiD, Project.ProjectName, Experiment.ExperimentID, Experiment.NumInvolved, Experiment.ExperimentDate, Experiment.Hours from Project Join Experiment where Project.ProjectID = Experiment.ProjectID')\n",
      "\n",
      "\n",
      "result  = cursor.fetchall()\n",
      "\n",
      "for r in result: \n",
      "    print r\n",
      "cursor.close()\n",
      "conn.close()"
     ],
     "language": "python",
     "metadata": {},
     "outputs": [
      {
       "output_type": "stream",
       "stream": "stdout",
       "text": [
        "(1214, u'Antigravity', 1, 1, None, 1.5)\n",
        "(1214, u'Antigravity', 2, 1, u'1889-11-01', 14.3)\n",
        "(1709, u'Teleportation', 1, 3, u'1891-01-22', 7.0)\n",
        "(1709, u'Teleportation', 2, 1, u'1891-02-23', 7.2)\n",
        "(1737, u'Time Travel', 1, 1, u'1900-07-05', -1.0)\n",
        "(1737, u'Time Travel', 2, 2, u'1900-07-05', -1.5)\n",
        "(2001, u'Invisibility Cloak', 3, 3, u'2000-01-01', 20.0)\n",
        "(2001, u'Invisibility Cloak', 5, 1, u'180-05-11', 5.0)\n",
        "(2010, u'Create New Life', 2, 5, u'2020-11-28', 40.0)\n",
        "(2010, u'Create New Life', 3, 10, u'2300-01-31', 56.0)\n"
       ]
      }
     ],
     "prompt_number": 1
    },
    {
     "cell_type": "code",
     "collapsed": false,
     "input": [],
     "language": "python",
     "metadata": {},
     "outputs": []
    }
   ],
   "metadata": {}
  }
 ]
}